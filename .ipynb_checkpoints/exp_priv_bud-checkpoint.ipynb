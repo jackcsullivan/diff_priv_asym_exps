{
 "cells": [
  {
   "cell_type": "code",
   "execution_count": 1,
   "metadata": {
    "collapsed": true
   },
   "outputs": [],
   "source": [
    "import numpy as np\n",
    "import matplotlib.pyplot as plt\n",
    "from sklearn.linear_model import LinearRegression\n",
    "from scipy.optimize import minimize"
   ]
  },
  {
   "cell_type": "markdown",
   "metadata": {},
   "source": [
    "## Privacy Budget Data from both the Asymmetric and Symmetric Cases"
   ]
  },
  {
   "cell_type": "code",
   "execution_count": 2,
   "metadata": {
    "collapsed": false
   },
   "outputs": [],
   "source": [
    "asym_data = np.array([2.9957322735459346, 2.088772622392129, 1.6672477196766076, 1.4119323148519158, 1.237454183293103, 1.1094850211923133, 1.0111238215392768, 0.9329381456823123, 0.8692116826305945, 0.8162384382353874, 0.7715068590642378, 0.7332471071221812, 0.7001729487422754, 0.6713252104306355, 0.6459727455264089, 0.6235477944345205, 0.6036021731600203, 0.5857768935798962, 0.5697807288054267, 0.5553746508564384, 0.5423602694128729, 0.5305715313082133, 0.5198680190441812, 0.5101299107951157, 0.5012543821602896, 0.49315234490161036, 0.4857462204306196, 0.47896771094612656, 0.47275671909481576, 0.4670597664312253, 0.4618292184806794, 0.4570223031784265, 0.4526005054639188, 0.4485291672969191, 0.44477680149427223, 0.4413148880470948, 0.43811742012426796, 0.4351608089933967, 0.4324235938813865, 0.4298861738061721, 0.427530617942727, 0.42534093029572156, 0.423302195343263, 0.4214009940982299, 0.4196251401685405, 0.41796368371644055, 0.41640642116115895, 0.41494439188579274, 0.4135693518263254, 0.4122738759661872, 0.4110510737159119, 0.4098950408448265, 0.4088002447498457, 0.4077616417495181, 0.4067748275204063, 0.40583576772471447, 0.4049406179760648, 0.40408624917160135, 0.4032695690262769, 0.40248784747258387, 0.4017386631412019, 0.40101982734970887, 0.4003291764897519, 0.39966497106746907, 0.3990254446381356, 0.3984090258603674, 0.39781448371509004, 0.39724038727506294, 0.39668554123387245, 0.3961489534704401, 0.39562956083564904, 0.3951264727603359, 0.3946388463151782, 0.39416593224005186, 0.39370693308411475, 0.3932611868489566, 0.3928280781321532, 0.39240711756196933, 0.39199758938631474, 0.39159911617646553, 0.39121119821013023, 0.39083342797772547, 0.39046525904229473, 0.3901064577135114, 0.38975653827829193, 0.3894151453966457, 0.38908209632064666, 0.38875692220494507, 0.38843936322500056, 0.3881292433111504, 0.3878262103815218, 0.3875299702042078, 0.38724039493144685, 0.38695723826775463, 0.38668023955745295, 0.38640922513023845, 0.38614389748204125, 0.38588426290688593])\n",
    "sym_data = np.array([2.995732273553991, 2.3902369116108657, 2.3123440328684235, 2.3035816111345655, 2.3026850453307848, 2.3025950688784844, 2.302585990773227, 2.302585192993926, 2.302585102993831, 2.302585093993305, 2.3025850930920266, 2.3025850929994434, 2.302585092985864, 2.302585092977608, 2.3025850929665825, 2.3025850929512535, 2.302585092930783, 2.3025850929044642, 2.3025850928716625, 2.302585092831821, 2.3025850927844607, 2.302585092729162, 2.302585092665577, 2.3025850925934073, 2.3025850925124014, 2.302585092422352, 2.302585092323085, 2.302585092214447, 2.3025850920963173, 2.302585091968589, 2.3025850918311646, 2.302585091683968, 2.3025850915269217, 2.302585091359954, 2.3025850911830075, 2.302585090996017, 2.302585090798922, 2.3025850905916614, 2.3025850903741754, 2.302585090146399, 2.302585089908265, 2.302585089659715, 2.3025850894006723, 2.302585089131064, 2.30258508885082, 2.30258508855986, 2.3025850882581023, 2.3025850879454643, 2.3025850876218557, 2.3025850872871896, 2.3025850869413698, 2.3025850865843047, 2.302585086215893, 2.3025850858360335, 2.302585085444624, 2.302585085041556, 2.3025850846267195, 2.3025850842000075, 2.3025850837613047, 2.3025850833104964, 2.302585082847462, 2.302585082372087, 2.30258508188425, 2.302585081383825, 2.3025850808706902, 2.3025850803447176, 2.302585079805783, 2.3025850792537534, 2.302585078688501, 2.3025850781098955, 2.3025850775178016, 2.3025850769120892, 2.302585076292619, 2.3025850756592585, 2.3025850750118706, 2.302585074350316, 2.30258507367446, 2.3025850729841597, 2.3025850722792773, 2.3025850715596703, 2.302585070825201, 2.302585070075724, 2.3025850693111, 2.302585068531181, 2.302585067735833, 2.3025850669249044, 2.302585066098252, 2.302585065255735, 2.302585064397207, 2.3025850635225247, 2.3025850626315383, 2.302585061724108, 2.302585060800084, 2.302585059859325, 2.3025850589016796, 2.302585057927007, 2.302585056935158, 2.302585055925989])\n",
    "T = np.arange(2, 100)"
   ]
  },
  {
   "cell_type": "code",
   "execution_count": 26,
   "metadata": {
    "collapsed": false
   },
   "outputs": [
    {
     "data": {
      "image/png": "[encoded data removed]",
      "text/plain": [
       "<Figure size 432x288 with 1 Axes>"
      ]
     },
     "metadata": {},
     "output_type": "display_data"
    }
   ],
   "source": [
    "plt.plot(T, asym_data, label=\"Asym\")\n",
    "plt.plot(T, sym_data, label=\"Sym\")\n",
    "plt.legend()\n",
    "plt.xlabel(\"T: Length of range\")\n",
    "plt.ylabel(\"Worst Case (Max) Privacy Budget\")\n",
    "plt.title(\"Worst Case (Max) Privacy Budgets for length of range T\")\n",
    "plt.show()"
   ]
  },
  {
   "cell_type": "markdown",
   "metadata": {},
   "source": [
    "Both these plots represent a $c/T$ relationship. In order to determine the exact relationship between privacy budget and length of the interval in the worst case (where the count is one away from a range endpoint) and to solve for c, linear regression can be solve for this relationship."
   ]
  },
  {
   "cell_type": "code",
   "execution_count": 4,
   "metadata": {
    "collapsed": false
   },
   "outputs": [
    {
     "name": "stdout",
     "output_type": "stream",
     "text": [
      "[[5.38339197]]\n",
      "[0.31354159]\n"
     ]
    }
   ],
   "source": [
    "# Unconstrained lin regression\n",
    "x = 1 / np.arange(2, 100)\n",
    "lr = LinearRegression().fit(x.reshape(-1, 1), asym_data.reshape(-1, 1))\n",
    "print(lr.coef_)\n",
    "print(lr.intercept_)"
   ]
  },
  {
   "cell_type": "markdown",
   "metadata": {},
   "source": [
    "This slope and intercept give us good insight into the true relationship of max privacy budget and length of range. But we our aim is to solve for an upper bound of privacy budget for any T. To do this, we can solve for the best fit line additionally with the constraint of the line (Ax - b) >= 0. In this case, the line either equals the point or lies above it, defining a valid upper bound."
   ]
  },
  {
   "cell_type": "markdown",
   "metadata": {},
   "source": [
    "## Constrained Linear Regression That Lies Over All Points"
   ]
  },
  {
   "cell_type": "markdown",
   "metadata": {},
   "source": [
    "### Asymmetric Upper Bound Coefficients"
   ]
  },
  {
   "cell_type": "code",
   "execution_count": 16,
   "metadata": {
    "collapsed": true
   },
   "outputs": [],
   "source": [
    "A = np.hstack((x.reshape(-1, 1), np.ones((x.shape[0])).reshape(-1, 1)))\n",
    "b_asym = asym_data"
   ]
  },
  {
   "cell_type": "code",
   "execution_count": 17,
   "metadata": {
    "collapsed": true
   },
   "outputs": [],
   "source": [
    "def con_asym(x):\n",
    "    return A.dot(x) - b_asym\n",
    "\n",
    "def least_squares_asym(x):\n",
    "    return 0.5 * np.linalg.norm(A.dot(x) - b_asym)"
   ]
  },
  {
   "cell_type": "code",
   "execution_count": 18,
   "metadata": {
    "collapsed": false
   },
   "outputs": [
    {
     "name": "stdout",
     "output_type": "stream",
     "text": [
      "Optimization terminated successfully.    (Exit mode 0)\n",
      "            Current function value: 0.12246184607724463\n",
      "            Iterations: 3\n",
      "            Function evaluations: 12\n",
      "            Gradient evaluations: 3\n"
     ]
    },
    {
     "name": "stderr",
     "output_type": "stream",
     "text": [
      "/Users/jacksullivan/anaconda3/lib/python3.5/site-packages/ipykernel/__main__.py:3: OptimizeWarning: Unknown solver options: xtol\n",
      "  app.launch_new_instance()\n"
     ]
    },
    {
     "data": {
      "text/plain": [
       "     fun: 0.12246184607724463\n",
       "     jac: array([0.23452339, 4.03144928])\n",
       " message: 'Optimization terminated successfully.'\n",
       "    nfev: 12\n",
       "     nit: 3\n",
       "    njev: 3\n",
       "  status: 0\n",
       " success: True\n",
       "       x: array([5.45060143, 0.33082766])"
      ]
     },
     "execution_count": 18,
     "metadata": {},
     "output_type": "execute_result"
    }
   ],
   "source": [
    "cons = [{'type':'ineq', 'fun': con_asym}]\n",
    "x0 = [1, 1]\n",
    "minimize(least_squares_asym, x0, constraints=cons, options={'xtol': 1e-8, 'disp': True})"
   ]
  },
  {
   "cell_type": "markdown",
   "metadata": {},
   "source": [
    "Upper bound is $5.45060143 / T  + 0.33082766$"
   ]
  },
  {
   "cell_type": "markdown",
   "metadata": {},
   "source": [
    "### Symmetric Upper Bound Coefficients"
   ]
  },
  {
   "cell_type": "code",
   "execution_count": 19,
   "metadata": {
    "collapsed": false
   },
   "outputs": [],
   "source": [
    "b_sym = sym_data"
   ]
  },
  {
   "cell_type": "code",
   "execution_count": 20,
   "metadata": {
    "collapsed": true
   },
   "outputs": [],
   "source": [
    "def con_sym(x):\n",
    "    return A.dot(x) - b_sym\n",
    "\n",
    "def least_squares_sym(x):\n",
    "    return 0.5 * np.linalg.norm(A.dot(x) - b_sym)"
   ]
  },
  {
   "cell_type": "code",
   "execution_count": 21,
   "metadata": {
    "collapsed": false
   },
   "outputs": [
    {
     "name": "stdout",
     "output_type": "stream",
     "text": [
      "Optimization terminated successfully.    (Exit mode 0)\n",
      "            Current function value: 9.037523914102797\n",
      "            Iterations: 2\n",
      "            Function evaluations: 8\n",
      "            Gradient evaluations: 2\n"
     ]
    },
    {
     "name": "stderr",
     "output_type": "stream",
     "text": [
      "/Users/jacksullivan/anaconda3/lib/python3.5/site-packages/ipykernel/__main__.py:3: OptimizeWarning: Unknown solver options: xtol\n",
      "  app.launch_new_instance()\n"
     ]
    },
    {
     "data": {
      "text/plain": [
       "     fun: 9.037523914102797\n",
       "     jac: array([0.15849864, 4.89480567])\n",
       " message: 'Optimization terminated successfully.'\n",
       "    nfev: 8\n",
       "     nit: 2\n",
       "    njev: 2\n",
       "  status: 0\n",
       " success: True\n",
       "       x: array([1.41487782, 2.28829336])"
      ]
     },
     "execution_count": 21,
     "metadata": {},
     "output_type": "execute_result"
    }
   ],
   "source": [
    "cons = [{'type':'ineq', 'fun': con_sym}]\n",
    "x0 = [1, 1]\n",
    "minimize(least_squares, x0, constraints=cons, options={'xtol': 1e-8, 'disp': True})"
   ]
  },
  {
   "cell_type": "markdown",
   "metadata": {},
   "source": [
    "Upper bound is $1.41487782 / T  + 2.28829336$"
   ]
  },
  {
   "cell_type": "code",
   "execution_count": null,
   "metadata": {
    "collapsed": true
   },
   "outputs": [],
   "source": []
  }
 ],
 "metadata": {
  "anaconda-cloud": {},
  "kernelspec": {
   "display_name": "Python [conda env:anaconda3]",
   "language": "python",
   "name": "conda-env-anaconda3-py"
  },
  "language_info": {
   "codemirror_mode": {
    "name": "ipython",
    "version": 3
   },
   "file_extension": ".py",
   "mimetype": "text/x-python",
   "name": "python",
   "nbconvert_exporter": "python",
   "pygments_lexer": "ipython3",
   "version": "3.5.2"
  },
  "toc": {
   "base_numbering": 1,
   "nav_menu": {},
   "number_sections": true,
   "sideBar": true,
   "skip_h1_title": false,
   "title_cell": "Table of Contents",
   "title_sidebar": "Contents",
   "toc_cell": false,
   "toc_position": {},
   "toc_section_display": true,
   "toc_window_display": false
  }
 },
 "nbformat": 4,
 "nbformat_minor": 1
}
